{
 "cells": [
  {
   "cell_type": "code",
   "execution_count": null,
   "id": "57fa8060",
   "metadata": {
    "vscode": {
     "languageId": "plaintext"
    }
   },
   "outputs": [],
   "source": [
    "# 🟩 STEP 0: Upload dataset ZIP\n",
    "from google.colab import files\n",
    "uploaded = files.upload()"
   ]
  },
  {
   "cell_type": "code",
   "execution_count": null,
   "id": "cfd50af0",
   "metadata": {
    "vscode": {
     "languageId": "plaintext"
    }
   },
   "outputs": [],
   "source": [
    "# 🟩 STEP 1: Extract ZIP\n",
    "!unzip -q \"dataset\" -d /content/"
   ]
  },
  {
   "cell_type": "code",
   "execution_count": null,
   "id": "a8ee781f",
   "metadata": {
    "vscode": {
     "languageId": "plaintext"
    }
   },
   "outputs": [],
   "source": [
    "# 🟩 STEP 2: Confirm extraction\n",
    "!ls /content"
   ]
  },
  {
   "cell_type": "code",
   "execution_count": null,
   "id": "d9982f12",
   "metadata": {
    "vscode": {
     "languageId": "plaintext"
    }
   },
   "outputs": [],
   "source": [
    "# 🟩 STEP 3: Dataset directories\n",
    "import os\n",
    "base_dir = '/content'\n",
    "train_dir = os.path.join(base_dir, 'train')\n",
    "test_dir = os.path.join(base_dir, 'test')\n",
    "assert os.path.exists(train_dir), \"Train folder not found.\"\n",
    "assert os.path.exists(test_dir), \"Test folder not found.\""
   ]
  },
  {
   "cell_type": "code",
   "execution_count": null,
   "id": "441c1606",
   "metadata": {
    "vscode": {
     "languageId": "plaintext"
    }
   },
   "outputs": [],
   "source": [
    "# 🟩 STEP 4: Verify class folders\n",
    "train_classes = sorted([d for d in os.listdir(train_dir) if os.path.isdir(os.path.join(train_dir, d))])\n",
    "test_classes = sorted([d for d in os.listdir(test_dir) if os.path.isdir(os.path.join(test_dir, d))])\n",
    "\n",
    "print(\"Train classes:\", train_classes)\n",
    "print(\"Test classes:\", test_classes)\n"
   ]
  },
  {
   "cell_type": "code",
   "execution_count": null,
   "id": "e4179a9c",
   "metadata": {
    "vscode": {
     "languageId": "plaintext"
    }
   },
   "outputs": [],
   "source": [
    "# 🟩 STEP 5: Image preprocessing with nail detection\n",
    "import cv2\n",
    "import numpy as np\n",
    "\n",
    "def detect_nail_bbox(img, margin=0.1):\n",
    "    \"\"\"Detects the nail bounding box coordinates without cropping full image.\"\"\"\n",
    "    gray = cv2.cvtColor(img, cv2.COLOR_RGB2GRAY)\n",
    "    _, thresh = cv2.threshold(gray, 0, 255, cv2.THRESH_BINARY + cv2.THRESH_OTSU)\n",
    "    contours, _ = cv2.findContours(thresh, cv2.RETR_EXTERNAL, cv2.CHAIN_APPROX_SIMPLE)\n",
    "    if len(contours) == 0:\n",
    "        return 0, 0, img.shape[1], img.shape[0]  # fallback: full image\n",
    "    c = max(contours, key=cv2.contourArea)\n",
    "    x, y, w, h = cv2.boundingRect(c)\n",
    "    mx = int(w * margin)\n",
    "    my = int(h * margin)\n",
    "    x1 = max(0, x - mx)\n",
    "    y1 = max(0, y - my)\n",
    "    x2 = min(img.shape[1], x + w + mx)\n",
    "    y2 = min(img.shape[0], y + h + my)\n",
    "    return x1, y1, x2, y2\n",
    "\n",
    "def enhance_nail_image_full(img):\n",
    "    \"\"\"Preprocess image: normalization only, no cropping.\"\"\"\n",
    "    img = np.array(img, dtype=np.uint8)\n",
    "    img = img / 255.0  # gentle normalization\n",
    "    return img\n",
    "\n"
   ]
  },
  {
   "cell_type": "code",
   "execution_count": null,
   "id": "9631ad89",
   "metadata": {
    "vscode": {
     "languageId": "plaintext"
    }
   },
   "outputs": [],
   "source": [
    "# 🟩 STEP 6: Data generators with safe augmentation\n",
    "from tensorflow.keras.preprocessing.image import ImageDataGenerator\n",
    "\n",
    "train_datagen = ImageDataGenerator(\n",
    "    rotation_range=5,\n",
    "    width_shift_range=0.02,\n",
    "    height_shift_range=0.02,\n",
    "    zoom_range=0.03,\n",
    "    horizontal_flip=True,\n",
    "    fill_mode='nearest',\n",
    "    preprocessing_function=enhance_nail_image_full\n",
    ")\n",
    "\n",
    "test_datagen = ImageDataGenerator(\n",
    "    preprocessing_function=enhance_nail_image_full\n",
    ")\n",
    "\n",
    "train_data = train_datagen.flow_from_directory(\n",
    "    train_dir,\n",
    "    target_size=(224, 224),\n",
    "    batch_size=32,\n",
    "    class_mode='categorical'\n",
    ")\n",
    "\n",
    "test_data = test_datagen.flow_from_directory(\n",
    "    test_dir,\n",
    "    target_size=(224, 224),\n",
    "    batch_size=32,\n",
    "    class_mode='categorical'\n",
    ")"
   ]
  },
  {
   "cell_type": "code",
   "execution_count": null,
   "id": "7dc5a059",
   "metadata": {
    "vscode": {
     "languageId": "plaintext"
    }
   },
   "outputs": [],
   "source": [
    "# 🟩 STEP 7: Visualize 9 full images with detected nail square\n",
    "import matplotlib.pyplot as plt\n",
    "\n",
    "images, labels = next(train_data)\n",
    "plt.figure(figsize=(12, 8))\n",
    "\n",
    "for i in range(9):\n",
    "    img = (images[i]*255).astype(np.uint8).copy()  # restore 0-255 for cv2\n",
    "    x1, y1, x2, y2 = detect_nail_bbox(img)\n",
    "\n",
    "    # Draw rectangle around nail\n",
    "    cv2.rectangle(img, (x1, y1), (x2, y2), color=(255, 0, 0), thickness=2)\n",
    "    img = img / 255.0  # back to 0-1 for plt\n",
    "\n",
    "    plt.subplot(3, 3, i+1)\n",
    "    plt.imshow(img)\n",
    "    label_idx = np.argmax(labels[i])\n",
    "    label_name = list(train_data.class_indices.keys())[label_idx]\n",
    "    plt.title(label_name, fontsize=9)\n",
    "    plt.axis('off')\n",
    "\n",
    "plt.tight_layout()\n",
    "plt.show()\n"
   ]
  },
  {
   "cell_type": "code",
   "execution_count": null,
   "id": "6b015458",
   "metadata": {
    "vscode": {
     "languageId": "plaintext"
    }
   },
   "outputs": [],
   "source": [
    "# 🟩 STEP 8: Display class labels with numeric indices\n",
    "for class_name, class_index in train_data.class_indices.items():\n",
    "    print(f\"{class_index} → {class_name}\")"
   ]
  }
 ],
 "metadata": {
  "language_info": {
   "name": "python"
  }
 },
 "nbformat": 4,
 "nbformat_minor": 5
}
